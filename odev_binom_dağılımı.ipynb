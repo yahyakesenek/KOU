{
  "nbformat": 4,
  "nbformat_minor": 0,
  "metadata": {
    "colab": {
      "name": "odev_binom_dağılımı.ipynb",
      "provenance": [],
      "collapsed_sections": [],
      "authorship_tag": "ABX9TyPzkMExNtf43gK/yJ+8/UUQ",
      "include_colab_link": true
    },
    "kernelspec": {
      "name": "python3",
      "display_name": "Python 3"
    }
  },
  "cells": [
    {
      "cell_type": "markdown",
      "metadata": {
        "id": "view-in-github",
        "colab_type": "text"
      },
      "source": [
        "<a href=\"https://colab.research.google.com/github/yahyakesenek/KOU/blob/master/odev_binom_da%C4%9F%C4%B1l%C4%B1m%C4%B1.ipynb\" target=\"_parent\"><img src=\"https://colab.research.google.com/assets/colab-badge.svg\" alt=\"Open In Colab\"/></a>"
      ]
    },
    {
      "cell_type": "code",
      "metadata": {
        "id": "40hJqUnIrY3m",
        "colab_type": "code",
        "colab": {}
      },
      "source": [
        ""
      ],
      "execution_count": 0,
      "outputs": []
    },
    {
      "cell_type": "markdown",
      "metadata": {
        "id": "pJFkbXSCrdoy",
        "colab_type": "text"
      },
      "source": [
        "Sürekli bir raslantı değişkeni X in olasılık yoğunluk fonksiyonu\n",
        "f (x) = 6x(1− x) 0 ≤ x ≤ 1 olarak verilmiştir.\n",
        "Bu dağılımdan tesadüfi ve bağımsız olarak seçilecek 5 adet x değerinden üçünün 1/2 ile 1\n",
        "arasında olması olasılığını hesaplayınız\n"
      ]
    },
    {
      "cell_type": "code",
      "metadata": {
        "id": "xOZ2TpqWrfcE",
        "colab_type": "code",
        "colab": {
          "base_uri": "https://localhost:8080/",
          "height": 151
        },
        "outputId": "c706a57b-b7cd-4575-d006-8fd943faa951"
      },
      "source": [
        "from sympy import *\n",
        "import numpy as np\n",
        "def factorial(n):\n",
        "    mult = 1\n",
        "    for i in range(1, n+1):\n",
        "        mult *= i\n",
        "    return mult\n",
        "\n",
        "\n",
        "def permutate(n, r):\n",
        "    return factorial(n) / factorial(n - r)\n",
        "\n",
        "\n",
        "def combination(n, r):\n",
        "    return permutate(n, r) / factorial(r)\n",
        "\n",
        "\n",
        "def pow(q,n):\n",
        "    return q**n\n",
        "def binomial(n,r,p):\n",
        "    return combination(n,r)*pow(p,r)*pow(1-p,n-r)\n",
        "\n",
        "x=Symbol(\"x\")\n",
        "f=6*x-6*x**2\n",
        "print(\"Verilen ifadenin denklemi : \\n\",f)\n",
        "a=integrate(f,(x,0.5,1))\n",
        "PA=a\n",
        "n=5\n",
        "r=3\n",
        "print(\"1/2 ile 1 arasında olma olasılığı => {}\\n\".format(round(PA,3)))\n",
        "\n",
        "b=binomial(5,3,PA)\n",
        "print(\"Binom dağılımı fonksiyonuna göre  C(n,r) x p ^ r x (1-p) ^ (n-r)  olduğundan n=5, r= 3 ve p = 0.5 değerleri formülde kullanılırsa.\\n\")\n",
        "print(\"{} defa atıldığında {} defa 1/2 ile 1 arasında olma olasılığı => {}\\n bulunur.\".format(n,r,round(b,3)))\n"
      ],
      "execution_count": 39,
      "outputs": [
        {
          "output_type": "stream",
          "text": [
            "Verilen ifadenin denklemi : \n",
            " -6*x**2 + 6*x\n",
            "1/2 ile 1 arasında olma olasılığı => 0.5\n",
            "\n",
            "Binom dağılımı fonksiyonuna göre  C(n,r) x p ^ r x (1-p) ^ (n-r)  olduğundan n=5, r= 3 ve p = 0.5 değerleri formülde kullanılırsa.\n",
            "\n",
            "5 defa atıldığında 3 defa 1/2 ile 1 arasında olma olasılığı => 0.312\n",
            " bulunur.\n"
          ],
          "name": "stdout"
        }
      ]
    }
  ]
}