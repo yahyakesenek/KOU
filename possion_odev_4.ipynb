{
  "nbformat": 4,
  "nbformat_minor": 0,
  "metadata": {
    "colab": {
      "name": "possion_odev_4.ipynb",
      "provenance": [],
      "authorship_tag": "ABX9TyP9eF5TVFaYWgDM1ylxkRGm",
      "include_colab_link": true
    },
    "kernelspec": {
      "name": "python3",
      "display_name": "Python 3"
    }
  },
  "cells": [
    {
      "cell_type": "markdown",
      "metadata": {
        "id": "view-in-github",
        "colab_type": "text"
      },
      "source": [
        "<a href=\"https://colab.research.google.com/github/yahyakesenek/KOU/blob/master/possion_odev_4.ipynb\" target=\"_parent\"><img src=\"https://colab.research.google.com/assets/colab-badge.svg\" alt=\"Open In Colab\"/></a>"
      ]
    },
    {
      "cell_type": "markdown",
      "metadata": {
        "id": "UY9pWq4tlUGJ",
        "colab_type": "text"
      },
      "source": [
        "Problem :\n",
        "\n",
        "\n",
        "Kırsal bir böldege elektrik kesintileri 1 yılda 40 defa gerçekleşmektedir.\n",
        "\n",
        "Üç ayda ortalama ortalama elektrik kesintisi yaşanma olasılığını bulunuz?\n",
        "\n",
        "Çözüm :\n",
        "  Bu olay Possion dağılımına göre çözülebilir.\n",
        "  i) 1 yıl => 12 olduğunda,\n",
        "  3 ay 12 nin 1/4 üne eşittir.\n",
        "  \n",
        "\n",
        "  Bu durumda λ = 40*1/4 = 10 ( 3 ayda ortalama elektrik kesintisi yaşanma oranı)\n",
        "\n",
        "  ![image.png](data:image/png;base64,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) "
      ]
    },
    {
      "cell_type": "markdown",
      "metadata": {
        "id": "-ufZXoA0mXRq",
        "colab_type": "text"
      },
      "source": [
        "Formülde x=1 alınarak işleme gerçekleştirilmelidir.\n"
      ]
    },
    {
      "cell_type": "code",
      "metadata": {
        "id": "1eJixCgKmkLs",
        "colab_type": "code",
        "colab": {
          "base_uri": "https://localhost:8080/",
          "height": 35
        },
        "outputId": "4281d6e6-bf23-468d-a26f-fc1ed7d66fc5"
      },
      "source": [
        "import numpy as np\n",
        "def fact(x):\n",
        "  x=x+1\n",
        "  mul=1\n",
        "  for i in range(1,x):\n",
        "    mul=mul*i\n",
        "  return mul \n",
        "def possion(x,_lambda):\n",
        "  return _lambda**x*np.exp(-_lambda)/fact(x)\n",
        "\n",
        "\n",
        "possion(1,10)\n",
        "\n"
      ],
      "execution_count": 7,
      "outputs": [
        {
          "output_type": "execute_result",
          "data": {
            "text/plain": [
              "0.00045399929762484856"
            ]
          },
          "metadata": {
            "tags": []
          },
          "execution_count": 7
        }
      ]
    }
  ]
}