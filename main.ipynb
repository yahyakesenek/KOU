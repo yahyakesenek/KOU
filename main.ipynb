{
  "nbformat": 4,
  "nbformat_minor": 0,
  "metadata": {
    "colab": {
      "name": "main.ipynb",
      "provenance": [],
      "collapsed_sections": [],
      "authorship_tag": "ABX9TyNDUlL1nt5HmPIQFU5yggwe"
    },
    "kernelspec": {
      "name": "python3",
      "display_name": "Python 3"
    }
  },
  "cells": [
    {
      "cell_type": "code",
      "metadata": {
        "id": "jAsfrKIRxYVH",
        "colab_type": "code",
        "colab": {
          "base_uri": "https://localhost:8080/",
          "height": 269
        },
        "outputId": "081f6c15-67fe-4fdb-c53e-96b2c9362db5"
      },
      "source": [
        "\n",
        "from random import randint\n",
        "from pprint import pprint as pa\n",
        "def factorial(n):\n",
        "    n += 1\n",
        "    mult = 1\n",
        "    if n == 0: return 1\n",
        "    for i in range(1, n):\n",
        "        mult *= i\n",
        "    return mult\n",
        "\n",
        "\n",
        "def permutate(n, r):\n",
        "    return factorial(n) / factorial(n - r)\n",
        "\n",
        "\n",
        "def combination(n, r):\n",
        "    return permutate(n, r) / factorial(r)\n",
        "\n",
        "\n",
        "def contains(array, data):\n",
        "    for i in array:\n",
        "        if i == data: return True\n",
        "    return False\n",
        "def containsWithNonDublicates(array,data):\n",
        "    for i in array:\n",
        "        if i == data: return True#[1,2]\n",
        "        checked=[]\n",
        "        for j in i:\n",
        "            if contains(data,j):\n",
        "                checked.append(j)\n",
        "        if len(checked) == len(data): return  True\n",
        "    return  False\n",
        "\n",
        "\n",
        "def getSplit(array, r):\n",
        "    arr = []\n",
        "    while True:\n",
        "        if len(arr) == r:\n",
        "            return arr\n",
        "        rnd = randint(0, len(array) - 1)\n",
        "        tgt = array[rnd]\n",
        "        if contains(arr, tgt) == False:\n",
        "            arr.append(tgt)\n",
        "\n",
        "\n",
        "def findPermutations(array, n, r):\n",
        "    all = []\n",
        "    _len = permutate(n, r)\n",
        "\n",
        "    while True:\n",
        "        if len(all) == _len:\n",
        "            return all\n",
        "        ar=getSplit(array,r)\n",
        "        if contains(all,ar) == False:\n",
        "            all.append(ar)\n",
        "\n",
        "def findCombinations(array,n,r):\n",
        "    all=[]\n",
        "    _len=combination(n,r)\n",
        "    while True:\n",
        "        if len(all) == _len:\n",
        "            return all\n",
        "        ar=getSplit(array,r)\n",
        "        if containsWithNonDublicates(all,ar) == False:\n",
        "            all.append(ar)\n",
        "\n",
        "def findAllPermutate(array):\n",
        "    all=[]\n",
        "    n=len(array)\n",
        "    for i in range(0,n+1):\n",
        "        tgt=findPermutations(array,n,i)\n",
        "        all.append(tgt)\n",
        "    return  all\n",
        "def findAllCombinations(array):\n",
        "    all=[]\n",
        "    n=len(array)\n",
        "    for i in range(0,n):\n",
        "        tgt=findCombinations(array,n,i)\n",
        "        all.append(tgt)\n",
        "    all.append(array)\n",
        "    return all\n",
        "def prettify(array):\n",
        "    for i in array:\n",
        "        print(i)\n",
        "\n",
        "\n",
        "\n",
        "\n",
        "tgt = [\"Ahmet\", \"Mehmet\", \"Veli\"]\n",
        "print (\" Ahmet, Mehmet ve Veli adlı arkadaşlar 2'er 2'er olarak yan yana kaç farklı şekilde oturabilir?\")\n",
        "print(\"$>>>\"+str(int(permutate(3,2))))\n",
        "print (\" Ahmet, Mehmet ve Veli adlı arkadaşlar 2'er 2'er olarak yan yana nasıl oturabilir?\")\n",
        "print(\"$>>>\")\n",
        "pa(findPermutations(tgt,3,2))\n",
        "\n",
        "print (\" Ahmet, Mehmet ve Veli adlı arkadaşlardan 2 kişi seçilerek tatile gönderilecektir. Bu seçim kaç farklı şekilde olabilir?\")\n",
        "print(\"$>>>\"+str(int(combination(3,2))))\n",
        "print (\"Ahmet, Mehmet ve Veli adlı arkadaşlardan 2 kişi seçilerek tatile gönderilecektir. Bu seçimleri bulunuz.\")\n",
        "print(\"$>>>\")\n",
        "pa(findCombinations(tgt,3,2))\n",
        "\n",
        "\n",
        "\n",
        "\n",
        "\n",
        "\n"
      ],
      "execution_count": 12,
      "outputs": [
        {
          "output_type": "stream",
          "text": [
            " Ahmet, Mehmet ve Veli adlı arkadaşlar 2'er 2'er olarak yan yana kaç farklı şekilde oturabilir?\n",
            "$>>>6\n",
            " Ahmet, Mehmet ve Veli adlı arkadaşlar 2'er 2'er olarak yan yana nasıl oturabilir?\n",
            "$>>>\n",
            "[['Mehmet', 'Veli'],\n",
            " ['Ahmet', 'Veli'],\n",
            " ['Veli', 'Ahmet'],\n",
            " ['Mehmet', 'Ahmet'],\n",
            " ['Veli', 'Mehmet'],\n",
            " ['Ahmet', 'Mehmet']]\n",
            " Ahmet, Mehmet ve Veli adlı arkadaşlardan 2 kişi seçilerek tatile gönderilecektir. Bu seçim kaç farklı şekilde olabilir?\n",
            "$>>>3\n",
            "Ahmet, Mehmet ve Veli adlı arkadaşlardan 2 kişi seçilerek tatile gönderilecektir. Bu seçimleri bulunuz.\n",
            "$>>>\n",
            "[['Veli', 'Ahmet'], ['Ahmet', 'Mehmet'], ['Veli', 'Mehmet']]\n"
          ],
          "name": "stdout"
        }
      ]
    },
    {
      "cell_type": "markdown",
      "metadata": {
        "id": "ACGDmR1uyD-O",
        "colab_type": "text"
      },
      "source": [
        "Bu kısımda derste anlatılan konulara (olasılık kısmına kadar olan) kadar \n",
        "olan fonksiyonlar kodlandı. Bunlara ek olarak permütaston ve kombinasyonda çıkan\n",
        "sonuçlara ait çıktılar ekrana basıldı. Bunun haricinde verilen diziye ait her bir değere karşılık permütasyon ve kombinasyon değerini bulacak fonksiyonlar eklendi.\n"
      ]
    },
    {
      "cell_type": "markdown",
      "metadata": {
        "id": "KFJTm5feyBm4",
        "colab_type": "text"
      },
      "source": [
        ""
      ]
    }
  ]
}