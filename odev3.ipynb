{
  "nbformat": 4,
  "nbformat_minor": 0,
  "metadata": {
    "colab": {
      "name": "odev3.ipynb",
      "provenance": [],
      "collapsed_sections": [],
      "authorship_tag": "ABX9TyMJ/6ckQd6FbOwWfZLe05YN",
      "include_colab_link": true
    },
    "kernelspec": {
      "name": "python3",
      "display_name": "Python 3"
    }
  },
  "cells": [
    {
      "cell_type": "markdown",
      "metadata": {
        "id": "view-in-github",
        "colab_type": "text"
      },
      "source": [
        "<a href=\"https://colab.research.google.com/github/yahyakesenek/KOU/blob/master/odev3.ipynb\" target=\"_parent\"><img src=\"https://colab.research.google.com/assets/colab-badge.svg\" alt=\"Open In Colab\"/></a>"
      ]
    },
    {
      "cell_type": "code",
      "metadata": {
        "id": "afRoMFHXj4tn",
        "colab_type": "code",
        "colab": {}
      },
      "source": [
        ""
      ],
      "execution_count": 0,
      "outputs": []
    },
    {
      "cell_type": "markdown",
      "metadata": {
        "id": "KKMdC2L1j6fR",
        "colab_type": "text"
      },
      "source": [
        "300 kişilik bir popülasyonda 20 kişi belli bir tür hastalığa sahiptir.\n",
        "Bu hastalara uygulanan bir testin doğru(pozitif) olma olasılığı %98\n",
        "ve sağlıklı insana uygulandığında testin doğru çıkma (pozitif) olasılığı %3'tür.\n",
        "\n",
        "\n",
        "\n",
        "Testi yapan bir kişinin sonucu pozitif çıktığına göre kişinin gerçekten de hasta  olma olasığı kaçtır?\n",
        "\n",
        "K: Hasta sayısı\n",
        "\n",
        "E:Popülasyon sayısı\n",
        "\n",
        "300 kişiden 20 kişi hasta ise  hasta olma olasılığı,\n",
        "\n",
        " P(K)=20/300 = 0.07\n",
        "\n",
        " Hasta olmama olasılığı,\n",
        "\n",
        " P(K')=280/300= 0.93\n",
        "\n",
        "\n",
        "hasta olup testin pozitif çıkma olasılığı P(T+/K)=0.98\n",
        "\n",
        "hasta olmayıp testin pozitif çıkma olasılığı P(T+/K')=0.03\n",
        "\n",
        "\n",
        "Buna test tanısındaki toplam hasta olma olasılığı, \n",
        "\n",
        "  P(T+/E)=P(T+/K)*P(K)+P(T+/K')*P(K')\n",
        "         = 0.98 x 20/300 + 0.03 x 280/300\n",
        "\n",
        "Seçilen kişinin gerçekten hasta olma olasılığı \n",
        "\n",
        "P(+/K) = 0.98*20/300/P(T+/E)\n",
        "\n",
        "       ~ 0.70\n",
        "\n",
        "\n",
        "olacaktır.\n",
        "\n",
        "\n",
        "\n",
        "\n"
      ]
    },
    {
      "cell_type": "code",
      "metadata": {
        "id": "wpVMO7ZXnvrV",
        "colab_type": "code",
        "outputId": "29203a0b-64b7-4898-b6b3-e84abedadae3",
        "colab": {
          "base_uri": "https://localhost:8080/",
          "height": 84
        }
      },
      "source": [
        "\n",
        "def div(a,b):\n",
        "  return a/float(b)\n",
        "\n",
        "def kosulluOlasilik(a,b):\n",
        "  return a*b\n",
        "\n",
        "def sum(array):\n",
        "  s=0\n",
        "  for i in array:\n",
        "    return s\n",
        "  \n",
        "\n",
        "pHasta=div(20,300)\n",
        "print(\"hasta Olma Olasılığı :{0}\".format(round(pHasta,2)))\n",
        "pDegilHasta=div(300-20,300)\n",
        "\n",
        "print(\"hasta Olmama Olasılığı :{}\".format(round(pDegilHasta,2)))\n",
        "p0=0.98\n",
        "p1=0.03\n",
        "\n",
        "pEvrensel=kosulluOlasilik(pHasta,p0)+kosulluOlasilik(pDegilHasta,p1)\n",
        "\n",
        "print(\"Seçilen bir kişinin sonucunun pozitif çıkma  Olasılığı :{}\".format(round(pDegilHasta,2)))\n",
        "\n",
        "pPozitifVaka=kosulluOlasilik(pHasta,p0)\n",
        "\n",
        "kisininHastaOlmasi=div(pPozitifVaka,pEvrensel)\n",
        "\n",
        "print(\"Seçilen bir kişinin gerçekten hasta olma Olasılığı :{}\".format(round(kisininHastaOlmasi,2)))\n",
        "\n",
        "\n",
        "  \n"
      ],
      "execution_count": 3,
      "outputs": [
        {
          "output_type": "stream",
          "text": [
            "hasta Olma Olasılığı :0.07\n",
            "hasta Olmama Olasılığı :0.93\n",
            "Seçilen bir kişinin sonucunun pozitif çıkma  Olasılığı :0.93\n",
            "Seçilen bir kişinin gerçekten hasta olma Olasılığı :0.7\n"
          ],
          "name": "stdout"
        }
      ]
    }
  ]
}