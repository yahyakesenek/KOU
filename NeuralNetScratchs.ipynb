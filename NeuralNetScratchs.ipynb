{
  "nbformat": 4,
  "nbformat_minor": 0,
  "metadata": {
    "colab": {
      "name": "NeuralNetScratchs.ipynb",
      "provenance": [],
      "collapsed_sections": [],
      "authorship_tag": "ABX9TyO4oLLDQBffuT6Hhxx+5ZaG",
      "include_colab_link": true
    },
    "kernelspec": {
      "name": "python3",
      "display_name": "Python 3"
    }
  },
  "cells": [
    {
      "cell_type": "markdown",
      "metadata": {
        "id": "view-in-github",
        "colab_type": "text"
      },
      "source": [
        "<a href=\"https://colab.research.google.com/github/yahyakesenek/KOU/blob/master/NeuralNetScratchs.ipynb\" target=\"_parent\"><img src=\"https://colab.research.google.com/assets/colab-badge.svg\" alt=\"Open In Colab\"/></a>"
      ]
    },
    {
      "cell_type": "code",
      "metadata": {
        "id": "q34KSc06qoSR",
        "colab_type": "code",
        "colab": {
          "base_uri": "https://localhost:8080/",
          "height": 221
        },
        "outputId": "d7066583-83c2-4cf4-ee13-b27cba850245"
      },
      "source": [
        "\n",
        "import numpy as np\n",
        "X= np.array(([2,9],[1,5],[3,6]),dtype=float)\n",
        "y=np.array(([92],[86],[89]),dtype=float)\n",
        "print(y)\n",
        "X=X/np.amax(X,axis=0)\n",
        "y/=100\n",
        "\n",
        "class NeuralNetwork(object):\n",
        "  def __init__(self):\n",
        "    self.input=2\n",
        "    self.output=1\n",
        "    self.hidden=3\n",
        "    self.w1=np.random.randn(self.input,self.hidden)\n",
        "    self.w2=np.random.randn(self.hidden,self.output)\n",
        "\n",
        "  def forward(self,x):\n",
        "    self.z=np.dot(x,self.w1)\n",
        "    self.z2=self.sigmoid(self.z)\n",
        "    self.z3=np.dot(self.z2,self.w2)\n",
        "    output = self.sigmoid(self.z3)\n",
        "    return output\n",
        "\n",
        "  def backward(self,x,y,output):\n",
        "    self.output_error = y-output\n",
        "    self.output_delta = self.output_error*self.derive_sigmoid(output)\n",
        "    self.z2_error = self.output_delta.dot(self.w2.T)\n",
        "    self.z2_delta = self.z2_error*self.derive_sigmoid(self.z2)\n",
        "    self.w1 +=x.T.dot(self.z2_delta)\n",
        "    self.w2 +=self.z2.T.dot(self.output_delta)\n",
        "  def train(self,x,y):\n",
        "    output = self.forward(x)\n",
        "    self.backward(x,y,output)\n",
        "\n",
        "  def derive_sigmoid(self,x):\n",
        "    return self.sigmoid(x)*(1-self.sigmoid(x))\n",
        "  def sigmoid(self,x):\n",
        "    return 1/(1+np.exp(-x))\n",
        "nn=NeuralNetwork()\n",
        "for i in range(1000):\n",
        "  if i%100== 0 and i>0:\n",
        "    loss=np.mean(np.square(y-nn.forward(X)))\n",
        "    print(loss) \n",
        "  nn.train(X,y)\n",
        "\n",
        "\n"
      ],
      "execution_count": 17,
      "outputs": [
        {
          "output_type": "stream",
          "text": [
            "[[92.]\n",
            " [86.]\n",
            " [89.]]\n",
            "0.00013321382471116172\n",
            "0.00012222227978064742\n",
            "0.00011235950024859175\n",
            "0.00010351610559380416\n",
            "9.554976762131126e-05\n",
            "8.834337230191353e-05\n",
            "8.179985427593328e-05\n",
            "7.58381985410173e-05\n",
            "7.039032643071176e-05\n"
          ],
          "name": "stdout"
        }
      ]
    }
  ]
}