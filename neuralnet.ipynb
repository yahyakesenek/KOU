{
  "nbformat": 4,
  "nbformat_minor": 0,
  "metadata": {
    "colab": {
      "name": "neuralnet.ipynb",
      "provenance": [],
      "collapsed_sections": [],
      "authorship_tag": "ABX9TyO4t6w/MTWMpQ/9x5x7OxP1",
      "include_colab_link": true
    },
    "kernelspec": {
      "name": "python3",
      "display_name": "Python 3"
    }
  },
  "cells": [
    {
      "cell_type": "markdown",
      "metadata": {
        "id": "view-in-github",
        "colab_type": "text"
      },
      "source": [
        "<a href=\"https://colab.research.google.com/github/yahyakesenek/KOU/blob/master/neuralnet.ipynb\" target=\"_parent\"><img src=\"https://colab.research.google.com/assets/colab-badge.svg\" alt=\"Open In Colab\"/></a>"
      ]
    },
    {
      "cell_type": "code",
      "metadata": {
        "id": "n15SJTNK6F7z",
        "colab_type": "code",
        "colab": {
          "base_uri": "https://localhost:8080/",
          "height": 265
        },
        "outputId": "0a5ff42e-bd38-4c85-e20d-e67e78f08f04"
      },
      "source": [
        "import numpy as np\n",
        "from numpy import asarray\n",
        "import cv2\n",
        "import matplotlib.pyplot as pl\n",
        "\n",
        "import tensorflow as tf\n",
        "(x_train, y_train), (x_test, y_test) = tf.keras.datasets.mnist.load_data()\n",
        "\n",
        "img=x_train[0]\n",
        "#img = cv2.imread(x_train[0],cv2.IMREAD_GRAYSCALE)/255\n",
        "pl.imshow(img,cmap=\"gray\")\n",
        "pl.show()\n",
        "img.shape\n",
        "\n",
        "class Conv:\n",
        "  def __init__(self,num_filters,filter_size):\n",
        "    self.num_filters=num_filters\n",
        "    self.filter_size=filter_size\n",
        "    self.conv_filter=np.random.randn(num_filters,filter_size,filter_size)/(filter_size*filter_size)#(x,4,4)=> 16 ya bölünerek nırmalize edilir.\n",
        "\n",
        "  def image_region(self,image):#parça üretim amacıyla kullanılmaktadır. n-x+1 patch boyutu\n",
        "    height,width=image.shape\n",
        "    self.image = image\n",
        "    for j in range(height-self.filter_size+1):\n",
        "      for k in range(width-self.filter_size+1):\n",
        "        image_patch=image[j:(j+self.filter_size),k:(k+self.filter_size)]\n",
        "        yield image_patch,j,k\n",
        "  def forward_prop(self,image):\n",
        "    height,width=image.shape\n",
        "    conv_out=np.zeros((height-self.filter_size+1,width-self.filter_size+1,self.num_filters))\n",
        "    for image_patch,i,j in self.image_region(image):\n",
        "      conv_out[i,j] = np.sum(image_patch*self.conv_filter,axis=(1,2))\n",
        "    return conv_out\n",
        "  def back_prop(self,dl_dout,learning_rate):#dl_dout -> max-pool değeriyle gelecek\n",
        "    dl=np.zeros(self.conv_filter.shape)\n",
        "    for image_patch,i,j in self.image_region(self.image):\n",
        "      for k in range(self.num_filters):\n",
        "        dl[k] +=image_patch*dl_dout[i,j,k]\n",
        "    self.conv_filter -=learning_rate*dl\n",
        "    return dl\n",
        "\n",
        "\n"
      ],
      "execution_count": 4,
      "outputs": [
        {
          "output_type": "display_data",
          "data": {
            "image/png": "[encoded data removed]",
            "text/plain": [
              "<Figure size 432x288 with 1 Axes>"
            ]
          },
          "metadata": {
            "tags": [],
            "needs_background": "light"
          }
        }
      ]
    },
    {
      "cell_type": "code",
      "metadata": {
        "id": "SKlc8ii6YAAS",
        "colab_type": "code",
        "colab": {
          "base_uri": "https://localhost:8080/",
          "height": 299
        },
        "outputId": "412f6465-3c3e-4c85-863f-39ccc998b1d4"
      },
      "source": [
        "conv = Conv(18,7)\n",
        "out = conv.forward_prop(img)\n",
        "print(img.shape)\n",
        "print(out.shape)\n",
        "pl.imshow(out[:,:,8],cmap=\"gray\") # 3 değeri 0-17 a kadar değer alabilir\n",
        "pl.show()"
      ],
      "execution_count": 5,
      "outputs": [
        {
          "output_type": "stream",
          "text": [
            "(28, 28)\n",
            "(22, 22, 18)\n"
          ],
          "name": "stdout"
        },
        {
          "output_type": "display_data",
          "data": {
            "image/png": "[encoded data removed]",
            "text/plain": [
              "<Figure size 432x288 with 1 Axes>"
            ]
          },
          "metadata": {
            "tags": [],
            "needs_background": "light"
          }
        }
      ]
    },
    {
      "cell_type": "code",
      "metadata": {
        "id": "VEQxfLqeaVxN",
        "colab_type": "code",
        "colab": {}
      },
      "source": [
        "class MaxPool:\n",
        "  def __init__(self,filter_size):\n",
        "    self.filter_size=filter_size\n",
        "  def image_region(self,image):#parça üretim amacıyla kullanılmaktadır. n-x+1 patch boyutu\n",
        "    height,width=image.shape[0]//self.filter_size,image.shape[1]//self.filter_size\n",
        "    self.image=image\n",
        "    for i in range(height-self.filter_size+1):\n",
        "      for j in range(width-self.filter_size+1):\n",
        "        image_patch=image[(i*self.filter_size):(i*self.filter_size+self.filter_size),(j*self.filter_size):(j*self.filter_size+self.filter_size)]\n",
        "        yield image_patch,i,j\n",
        "    \n",
        "  def forward_prop(self,image):\n",
        "    height,width,num_filters=image.shape\n",
        "    self.num_filters=num_filters\n",
        "    conv_out=np.zeros((height//self.filter_size,width//self.filter_size,num_filters))\n",
        "    for image_patch,i,j in self.image_region(image):\n",
        "      conv_out[i,j] = np.amax(image_patch*self.filter_size,axis=(0,1))\n",
        "    return conv_out\n",
        "  def back_prop(self,dl_dout):#softmax kullanımına dikkat edilecek  dl_out bir softmax\n",
        "    dl=np.zeros(self.image.shape)\n",
        "    for image_patch,i,j in self.image_region(self.image):\n",
        "      for k in range(self.num_filters):\n",
        "        h,w,filter = image_patch.shape\n",
        "        max_val=np.amax(image_patch,axis=(0,1))\n",
        "        for i1 in range(h):\n",
        "          for j1 in range(w):\n",
        "            for k1 in range(filter):\n",
        "              if image_patch[i1,j1,k1] == max_val[k1]:\n",
        "                dl[i*self.filter_size+i1,j*self.filter_size+j1,k1]=dl_dout[j,j,k1]\n",
        "    \n",
        "    return dl"
      ],
      "execution_count": 0,
      "outputs": []
    },
    {
      "cell_type": "code",
      "metadata": {
        "id": "6tbQPnwneVJC",
        "colab_type": "code",
        "outputId": "db788a38-d134-4c41-d8bb-b2024bbc3f7f",
        "colab": {
          "base_uri": "https://localhost:8080/",
          "height": 282
        }
      },
      "source": [
        "maxpol = MaxPool(4)\n",
        "out = maxpol.forward_prop(out)\n",
        "print(out.shape)\n",
        "pl.imshow(out[:,:,7],cmap=\"gray\")\n",
        "pl.show()"
      ],
      "execution_count": 7,
      "outputs": [
        {
          "output_type": "stream",
          "text": [
            "(5, 5, 18)\n"
          ],
          "name": "stdout"
        },
        {
          "output_type": "display_data",
          "data": {
            "image/png": "[encoded data removed]",
            "text/plain": [
              "<Figure size 432x288 with 1 Axes>"
            ]
          },
          "metadata": {
            "tags": [],
            "needs_background": "light"
          }
        }
      ]
    },
    {
      "cell_type": "code",
      "metadata": {
        "id": "Kto1bcAhhBtR",
        "colab_type": "code",
        "colab": {}
      },
      "source": [
        "class Softmax:\n",
        "  def __init__(self,_input,soft):\n",
        "    self.weight=np.random.randn(_input,soft)/_input\n",
        "    self.bias = np.zeros(soft)\n",
        "  def forward(self,image):\n",
        "    self.orig_im_shape = image.shape\n",
        "    flattened = image.flatten()\n",
        "    self.modified = flattened\n",
        "    self.out=np.dot(self.modified,self.weight)+self.bias\n",
        "    exp_out = np.exp(self.out)\n",
        "    return exp_out/np.sum(exp_out,axis=0)\n",
        "  def backwad(self,dl_dout,learning_rate):\n",
        "    for i,grad in enumerate(dl_dout):\n",
        "      if grad == 0:\n",
        "        continue\n",
        "      transformation = np.exp(self.out)\n",
        "      s_total = np.sum(transformation)\n",
        "      dy_dz = -transformation[i]*transformation/(s_total**2)#z ye göre türev\n",
        "      dy_dz[i] = transformation[i]*(s_total-transformation[i])/(s_total**2)\n",
        "\n",
        "      dz_dw = self.modified\n",
        "      dz_db = 1\n",
        "      dz_input = self.weight\n",
        "\n",
        "      dL_dz=grad*dy_dz\n",
        "      dL_dw = dz_dw[np.newaxis].T @ dL_dz[np.newaxis]\n",
        "      dL_db = dL_dz*dz_db\n",
        "      dL_input = dz_input@dL_dz\n",
        "\n",
        "      self.weight -= learning_rate*dL_dw\n",
        "      self.bias -=learning_rate*dL_db\n",
        "      return dL_input.reshape(self.orig_im_shape)\n",
        "\n",
        "\n",
        "\n",
        "    "
      ],
      "execution_count": 0,
      "outputs": []
    },
    {
      "cell_type": "code",
      "metadata": {
        "id": "8EyRqA8Ljicr",
        "colab_type": "code",
        "outputId": "88ea702d-c79c-4358-9f98-7111b0d5e7d8",
        "colab": {
          "base_uri": "https://localhost:8080/",
          "height": 51
        }
      },
      "source": [
        "s=Softmax(5*5*18,10)\n",
        "out = s.forward(out)\n",
        "print(out)"
      ],
      "execution_count": 9,
      "outputs": [
        {
          "output_type": "stream",
          "text": [
            "[0.02239518 0.08009746 0.29065291 0.02150349 0.00658305 0.29028761\n",
            " 0.14689862 0.01673528 0.06277599 0.06207042]\n"
          ],
          "name": "stdout"
        }
      ]
    },
    {
      "cell_type": "code",
      "metadata": {
        "id": "tVaYrZKVkfrK",
        "colab_type": "code",
        "colab": {}
      },
      "source": [
        "mConv = Conv(8,3) # (28,28,1)=>(26,26,8)\n",
        "mPool = MaxPool(4) # (26,26,8) => (13,13,8)\n",
        "mSoftmax = Softmax(6*6*8,10) # (13*13*10) => 10\n"
      ],
      "execution_count": 0,
      "outputs": []
    },
    {
      "cell_type": "code",
      "metadata": {
        "id": "FLYMKvnOlPFm",
        "colab_type": "code",
        "colab": {}
      },
      "source": [
        "def forward(img,label):\n",
        "  out=mConv.forward_prop(img/255)\n",
        "  out=mPool.forward_prop(out)\n",
        "  out=mSoftmax.forward(out)\n",
        "\n",
        "  cross_ent = -np.log(out[label])\n",
        "  accuracy = 1 if np.argmax(out) == label else 0\n",
        "  return out,cross_ent,accuracy\n"
      ],
      "execution_count": 0,
      "outputs": []
    },
    {
      "cell_type": "code",
      "metadata": {
        "id": "w-jt4t6IlxMP",
        "colab_type": "code",
        "colab": {}
      },
      "source": [
        "def train(img,label,learning_rate=0.005):\n",
        "  out,loss,acc = forward(img,label)\n",
        "  grad = np.zeros(10)\n",
        "  grad[label] = -1/out[label]\n",
        "  grad_back = mSoftmax.backwad(grad,learning_rate)\n",
        "  grad_back = mPool.back_prop(grad_back)\n",
        "  grad_back = mConv.back_prop(grad_back,learning_rate)\n",
        "  return loss,acc\n"
      ],
      "execution_count": 0,
      "outputs": []
    },
    {
      "cell_type": "code",
      "metadata": {
        "id": "0nuO6z6um4aF",
        "colab_type": "code",
        "outputId": "3d61424f-2f72-447f-8de6-1c7b9f7b05d9",
        "colab": {
          "base_uri": "https://localhost:8080/",
          "height": 1000
        }
      },
      "source": [
        "for epoc in range(10):\n",
        "  print(\"Epoch => {}\".format(epoc+1))\n",
        "  loss = 0\n",
        "  num_correct = 0\n",
        "  for i,(im,label) in enumerate(zip(x_train,y_train)):\n",
        "    if i % 100 == 0 and i>0:\n",
        "      print(\"{} steps out of 100 steps : average {}  and accuracy {}\".format(i+1,loss/100,num_correct))\n",
        "      loss=0\n",
        "      num_correct=0\n",
        "    l1,acc=train(im,label)\n",
        "    loss+=l1\n",
        "    num_correct+=acc\n",
        "    "
      ],
      "execution_count": 0,
      "outputs": [
        {
          "output_type": "stream",
          "text": [
            "Epoch => 1\n",
            "101 steps out of 100 steps : average 2.2654090572298533  and accuracy 14\n",
            "201 steps out of 100 steps : average 2.2074985548621937  and accuracy 18\n",
            "301 steps out of 100 steps : average 2.1711532859322182  and accuracy 28\n",
            "401 steps out of 100 steps : average 2.1127184499663967  and accuracy 32\n",
            "501 steps out of 100 steps : average 2.056891865135076  and accuracy 35\n",
            "601 steps out of 100 steps : average 2.0779536987661915  and accuracy 34\n",
            "701 steps out of 100 steps : average 2.045647493108663  and accuracy 35\n",
            "801 steps out of 100 steps : average 2.028149610301059  and accuracy 32\n",
            "901 steps out of 100 steps : average 1.9983590919506329  and accuracy 35\n",
            "1001 steps out of 100 steps : average 1.9534673693528768  and accuracy 37\n",
            "1101 steps out of 100 steps : average 1.9690819663798131  and accuracy 41\n",
            "1201 steps out of 100 steps : average 1.9382714768673417  and accuracy 37\n",
            "1301 steps out of 100 steps : average 1.8602901822709694  and accuracy 51\n",
            "1401 steps out of 100 steps : average 1.8769956320716699  and accuracy 49\n",
            "1501 steps out of 100 steps : average 1.856133564306806  and accuracy 41\n",
            "1601 steps out of 100 steps : average 1.8618438279361353  and accuracy 35\n",
            "1701 steps out of 100 steps : average 1.6689149490448723  and accuracy 56\n",
            "1801 steps out of 100 steps : average 1.6735216631097216  and accuracy 52\n",
            "1901 steps out of 100 steps : average 1.7349641236997961  and accuracy 57\n",
            "2001 steps out of 100 steps : average 1.66478876951144  and accuracy 54\n",
            "2101 steps out of 100 steps : average 1.6774190190514013  and accuracy 55\n",
            "2201 steps out of 100 steps : average 1.6831223651965326  and accuracy 49\n",
            "2301 steps out of 100 steps : average 1.4235223330367186  and accuracy 54\n",
            "2401 steps out of 100 steps : average 1.6827200738658836  and accuracy 52\n",
            "2501 steps out of 100 steps : average 1.7128617099294743  and accuracy 37\n",
            "2601 steps out of 100 steps : average 1.5533283679790493  and accuracy 50\n",
            "2701 steps out of 100 steps : average 1.5794358406408804  and accuracy 47\n",
            "2801 steps out of 100 steps : average 1.4918987631108311  and accuracy 52\n",
            "2901 steps out of 100 steps : average 1.4799337191982562  and accuracy 60\n",
            "3001 steps out of 100 steps : average 1.5167639775095563  and accuracy 55\n",
            "3101 steps out of 100 steps : average 1.584268553641212  and accuracy 46\n",
            "3201 steps out of 100 steps : average 1.5124338371629478  and accuracy 53\n",
            "3301 steps out of 100 steps : average 1.4238522251512518  and accuracy 56\n",
            "3401 steps out of 100 steps : average 1.412036134504811  and accuracy 50\n",
            "3501 steps out of 100 steps : average 1.4841123323939138  and accuracy 55\n",
            "3601 steps out of 100 steps : average 1.5049674364064691  and accuracy 55\n",
            "3701 steps out of 100 steps : average 1.3221539469860428  and accuracy 63\n",
            "3801 steps out of 100 steps : average 1.470068690588257  and accuracy 61\n",
            "3901 steps out of 100 steps : average 1.3470039617822473  and accuracy 61\n",
            "4001 steps out of 100 steps : average 1.54289675411622  and accuracy 55\n",
            "4101 steps out of 100 steps : average 1.472347245955121  and accuracy 56\n",
            "4201 steps out of 100 steps : average 1.515075497604334  and accuracy 51\n",
            "4301 steps out of 100 steps : average 1.396909763912518  and accuracy 56\n",
            "4401 steps out of 100 steps : average 1.4875832104428064  and accuracy 48\n",
            "4501 steps out of 100 steps : average 1.3556917532870252  and accuracy 53\n",
            "4601 steps out of 100 steps : average 1.1926731603539074  and accuracy 68\n",
            "4701 steps out of 100 steps : average 1.2687978903164423  and accuracy 59\n",
            "4801 steps out of 100 steps : average 1.2894755606261699  and accuracy 57\n",
            "4901 steps out of 100 steps : average 1.2246023351698914  and accuracy 63\n",
            "5001 steps out of 100 steps : average 1.4319367395419942  and accuracy 56\n",
            "5101 steps out of 100 steps : average 1.4159513192683792  and accuracy 49\n",
            "5201 steps out of 100 steps : average 1.4130435719372927  and accuracy 54\n",
            "5301 steps out of 100 steps : average 1.4865275186574523  and accuracy 53\n",
            "5401 steps out of 100 steps : average 1.1887368348315248  and accuracy 57\n",
            "5501 steps out of 100 steps : average 1.107278509561186  and accuracy 66\n",
            "5601 steps out of 100 steps : average 1.2921498450818287  and accuracy 61\n",
            "5701 steps out of 100 steps : average 1.3272221162263194  and accuracy 58\n",
            "5801 steps out of 100 steps : average 1.4753402337914159  and accuracy 57\n",
            "5901 steps out of 100 steps : average 1.635410600650179  and accuracy 46\n",
            "6001 steps out of 100 steps : average 1.2947052646578947  and accuracy 61\n",
            "6101 steps out of 100 steps : average 1.0778777663586014  and accuracy 66\n",
            "6201 steps out of 100 steps : average 1.0428289763395804  and accuracy 73\n",
            "6301 steps out of 100 steps : average 1.2749349327183475  and accuracy 62\n",
            "6401 steps out of 100 steps : average 1.2751751652788474  and accuracy 57\n",
            "6501 steps out of 100 steps : average 1.2005163051077345  and accuracy 62\n",
            "6601 steps out of 100 steps : average 0.868756725619531  and accuracy 78\n",
            "6701 steps out of 100 steps : average 1.2141265322984527  and accuracy 64\n",
            "6801 steps out of 100 steps : average 1.26702685791329  and accuracy 55\n",
            "6901 steps out of 100 steps : average 1.5124753142331864  and accuracy 50\n",
            "7001 steps out of 100 steps : average 1.2837516095729986  and accuracy 62\n",
            "7101 steps out of 100 steps : average 1.230489342909037  and accuracy 60\n",
            "7201 steps out of 100 steps : average 1.4085722550945516  and accuracy 54\n",
            "7301 steps out of 100 steps : average 1.3514287541899899  and accuracy 61\n",
            "7401 steps out of 100 steps : average 1.397250465978109  and accuracy 52\n",
            "7501 steps out of 100 steps : average 1.1920958336725462  and accuracy 60\n",
            "7601 steps out of 100 steps : average 1.0209131718235585  and accuracy 63\n",
            "7701 steps out of 100 steps : average 1.1505331494261584  and accuracy 65\n",
            "7801 steps out of 100 steps : average 1.3010361449435583  and accuracy 55\n",
            "7901 steps out of 100 steps : average 1.3189971809945868  and accuracy 59\n",
            "8001 steps out of 100 steps : average 1.0744587004882677  and accuracy 61\n",
            "8101 steps out of 100 steps : average 1.0157074469940313  and accuracy 74\n",
            "8201 steps out of 100 steps : average 1.1637586254455485  and accuracy 62\n",
            "8301 steps out of 100 steps : average 1.5814887584599113  and accuracy 49\n",
            "8401 steps out of 100 steps : average 1.1413277833733533  and accuracy 60\n",
            "8501 steps out of 100 steps : average 1.2690164415475609  and accuracy 64\n",
            "8601 steps out of 100 steps : average 0.8124636784835851  and accuracy 78\n",
            "8701 steps out of 100 steps : average 1.3264763201201422  and accuracy 58\n",
            "8801 steps out of 100 steps : average 1.4860155764053158  and accuracy 50\n",
            "8901 steps out of 100 steps : average 1.3271012018514452  and accuracy 48\n",
            "9001 steps out of 100 steps : average 1.0243913671334388  and accuracy 68\n",
            "9101 steps out of 100 steps : average 0.9371721030271147  and accuracy 69\n",
            "9201 steps out of 100 steps : average 1.2253603513290923  and accuracy 59\n",
            "9301 steps out of 100 steps : average 1.1199997610019228  and accuracy 64\n",
            "9401 steps out of 100 steps : average 1.0473596568941228  and accuracy 66\n",
            "9501 steps out of 100 steps : average 1.050454044615179  and accuracy 69\n",
            "9601 steps out of 100 steps : average 1.1610490161772171  and accuracy 60\n",
            "9701 steps out of 100 steps : average 0.8859609149920235  and accuracy 65\n",
            "9801 steps out of 100 steps : average 0.9234570192098261  and accuracy 73\n",
            "9901 steps out of 100 steps : average 1.0353776577019767  and accuracy 67\n",
            "10001 steps out of 100 steps : average 1.1139914516612266  and accuracy 61\n",
            "10101 steps out of 100 steps : average 1.2261165898356117  and accuracy 55\n",
            "10201 steps out of 100 steps : average 1.2512897987427574  and accuracy 60\n",
            "10301 steps out of 100 steps : average 1.344567336188139  and accuracy 55\n",
            "10401 steps out of 100 steps : average 0.9845136870841561  and accuracy 68\n",
            "10501 steps out of 100 steps : average 0.9869027837761501  and accuracy 65\n",
            "10601 steps out of 100 steps : average 1.104232873092102  and accuracy 61\n",
            "10701 steps out of 100 steps : average 0.8761062780342221  and accuracy 71\n",
            "10801 steps out of 100 steps : average 1.099675215532395  and accuracy 64\n",
            "10901 steps out of 100 steps : average 1.0459024412602107  and accuracy 70\n",
            "11001 steps out of 100 steps : average 1.127244696775441  and accuracy 68\n",
            "11101 steps out of 100 steps : average 1.0015080559438791  and accuracy 68\n",
            "11201 steps out of 100 steps : average 1.1156551560924817  and accuracy 58\n",
            "11301 steps out of 100 steps : average 0.9279220322851519  and accuracy 73\n",
            "11401 steps out of 100 steps : average 1.1462142001826316  and accuracy 63\n",
            "11501 steps out of 100 steps : average 1.0272572719490398  and accuracy 63\n",
            "11601 steps out of 100 steps : average 1.384606284429112  and accuracy 55\n",
            "11701 steps out of 100 steps : average 1.3652921412687464  and accuracy 55\n",
            "11801 steps out of 100 steps : average 1.3524093421939134  and accuracy 58\n",
            "11901 steps out of 100 steps : average 1.2730845889575153  and accuracy 57\n",
            "12001 steps out of 100 steps : average 1.1685850245092588  and accuracy 63\n",
            "12101 steps out of 100 steps : average 1.0558669356288304  and accuracy 67\n",
            "12201 steps out of 100 steps : average 0.864190041047312  and accuracy 76\n",
            "12301 steps out of 100 steps : average 1.095281173645576  and accuracy 61\n",
            "12401 steps out of 100 steps : average 0.9904041761056875  and accuracy 64\n",
            "12501 steps out of 100 steps : average 1.098982568981088  and accuracy 59\n",
            "12601 steps out of 100 steps : average 1.223695927177381  and accuracy 53\n",
            "12701 steps out of 100 steps : average 1.1739365463645297  and accuracy 60\n",
            "12801 steps out of 100 steps : average 1.0300789182569166  and accuracy 67\n",
            "12901 steps out of 100 steps : average 0.9224081465290923  and accuracy 71\n",
            "13001 steps out of 100 steps : average 1.1491261497828116  and accuracy 58\n",
            "13101 steps out of 100 steps : average 1.3946192270956377  and accuracy 48\n",
            "13201 steps out of 100 steps : average 1.16348691442214  and accuracy 58\n",
            "13301 steps out of 100 steps : average 0.9719365755451028  and accuracy 65\n",
            "13401 steps out of 100 steps : average 1.1361010089411034  and accuracy 60\n",
            "13501 steps out of 100 steps : average 0.8450619572180181  and accuracy 76\n",
            "13601 steps out of 100 steps : average 0.8057583402421972  and accuracy 74\n",
            "13701 steps out of 100 steps : average 1.0301997808373067  and accuracy 67\n",
            "13801 steps out of 100 steps : average 1.1724918274875022  and accuracy 59\n",
            "13901 steps out of 100 steps : average 1.077510267137721  and accuracy 60\n",
            "14001 steps out of 100 steps : average 1.378147742641198  and accuracy 60\n",
            "14101 steps out of 100 steps : average 1.0235588106411926  and accuracy 61\n",
            "14201 steps out of 100 steps : average 1.1339068356364852  and accuracy 61\n",
            "14301 steps out of 100 steps : average 1.1304693791049192  and accuracy 63\n",
            "14401 steps out of 100 steps : average 1.2653051767845935  and accuracy 58\n",
            "14501 steps out of 100 steps : average 0.995708169496805  and accuracy 60\n",
            "14601 steps out of 100 steps : average 1.168639171136469  and accuracy 53\n",
            "14701 steps out of 100 steps : average 1.0148458618196166  and accuracy 66\n",
            "14801 steps out of 100 steps : average 1.118001837936359  and accuracy 66\n",
            "14901 steps out of 100 steps : average 0.9535979412996243  and accuracy 69\n",
            "15001 steps out of 100 steps : average 1.1162832407064753  and accuracy 70\n",
            "15101 steps out of 100 steps : average 1.1463329138822391  and accuracy 65\n",
            "15201 steps out of 100 steps : average 1.0755012265166628  and accuracy 61\n",
            "15301 steps out of 100 steps : average 0.9570645377003418  and accuracy 73\n",
            "15401 steps out of 100 steps : average 1.0661446634390745  and accuracy 67\n",
            "15501 steps out of 100 steps : average 1.1814375145798253  and accuracy 64\n",
            "15601 steps out of 100 steps : average 1.0446566274181277  and accuracy 61\n",
            "15701 steps out of 100 steps : average 1.0454768556684155  and accuracy 67\n",
            "15801 steps out of 100 steps : average 1.4058923889865917  and accuracy 54\n",
            "15901 steps out of 100 steps : average 1.323582667027268  and accuracy 55\n",
            "16001 steps out of 100 steps : average 1.0218268160825368  and accuracy 64\n",
            "16101 steps out of 100 steps : average 1.2053454241655028  and accuracy 56\n",
            "16201 steps out of 100 steps : average 1.1776156908768132  and accuracy 59\n",
            "16301 steps out of 100 steps : average 0.9388423581291205  and accuracy 69\n",
            "16401 steps out of 100 steps : average 0.8878723857598739  and accuracy 72\n",
            "16501 steps out of 100 steps : average 0.9415802752411758  and accuracy 78\n",
            "16601 steps out of 100 steps : average 0.8315398159807467  and accuracy 70\n",
            "16701 steps out of 100 steps : average 1.1734097592663044  and accuracy 61\n",
            "16801 steps out of 100 steps : average 1.1438231156341323  and accuracy 61\n",
            "16901 steps out of 100 steps : average 1.1058200738463175  and accuracy 59\n",
            "17001 steps out of 100 steps : average 1.0676290782674456  and accuracy 65\n",
            "17101 steps out of 100 steps : average 1.140758382458725  and accuracy 61\n",
            "17201 steps out of 100 steps : average 1.0518390337527594  and accuracy 61\n",
            "17301 steps out of 100 steps : average 1.1937126714649764  and accuracy 59\n",
            "17401 steps out of 100 steps : average 1.0598019743978404  and accuracy 65\n",
            "17501 steps out of 100 steps : average 1.0558578763953002  and accuracy 63\n",
            "17601 steps out of 100 steps : average 1.1901899616566094  and accuracy 54\n",
            "17701 steps out of 100 steps : average 1.1788032862555675  and accuracy 57\n",
            "17801 steps out of 100 steps : average 0.9533218906103671  and accuracy 68\n"
          ],
          "name": "stdout"
        }
      ]
    },
    {
      "cell_type": "code",
      "metadata": {
        "id": "Eng8RmPqs6tR",
        "colab_type": "code",
        "outputId": "1f0f2ca5-7804-4bef-dfb6-ca702591f3e7",
        "colab": {
          "base_uri": "https://localhost:8080/",
          "height": 409
        }
      },
      "source": [
        "loss = 0\n",
        "num_correct = 0\n",
        "for im,label in zip(x_test,y_test):\n",
        "  _,l1,acc = forward(im,label)\n",
        "  loss += l1\n",
        "  num_correct += acc\n",
        "num_test = len(x_test)\n",
        "print(\"Test loss :\",loss/num_test)\n",
        "print(\"Test accuracy :\",num_correct/num_test)"
      ],
      "execution_count": 0,
      "outputs": [
        {
          "output_type": "error",
          "ename": "KeyboardInterrupt",
          "evalue": "ignored",
          "traceback": [
            "\u001b[0;31m---------------------------------------------------------------------------\u001b[0m",
            "\u001b[0;31mKeyboardInterrupt\u001b[0m                         Traceback (most recent call last)",
            "\u001b[0;32m<ipython-input-119-243dd9a5b1cc>\u001b[0m in \u001b[0;36m<module>\u001b[0;34m()\u001b[0m\n\u001b[1;32m      2\u001b[0m \u001b[0mnum_correct\u001b[0m \u001b[0;34m=\u001b[0m \u001b[0;36m0\u001b[0m\u001b[0;34m\u001b[0m\u001b[0;34m\u001b[0m\u001b[0m\n\u001b[1;32m      3\u001b[0m \u001b[0;32mfor\u001b[0m \u001b[0mim\u001b[0m\u001b[0;34m,\u001b[0m\u001b[0mlabel\u001b[0m \u001b[0;32min\u001b[0m \u001b[0mzip\u001b[0m\u001b[0;34m(\u001b[0m\u001b[0mx_test\u001b[0m\u001b[0;34m,\u001b[0m\u001b[0my_test\u001b[0m\u001b[0;34m)\u001b[0m\u001b[0;34m:\u001b[0m\u001b[0;34m\u001b[0m\u001b[0;34m\u001b[0m\u001b[0m\n\u001b[0;32m----> 4\u001b[0;31m   \u001b[0m_\u001b[0m\u001b[0;34m,\u001b[0m\u001b[0ml1\u001b[0m\u001b[0;34m,\u001b[0m\u001b[0macc\u001b[0m \u001b[0;34m=\u001b[0m \u001b[0mforward\u001b[0m\u001b[0;34m(\u001b[0m\u001b[0mim\u001b[0m\u001b[0;34m,\u001b[0m\u001b[0mlabel\u001b[0m\u001b[0;34m)\u001b[0m\u001b[0;34m\u001b[0m\u001b[0;34m\u001b[0m\u001b[0m\n\u001b[0m\u001b[1;32m      5\u001b[0m   \u001b[0mloss\u001b[0m \u001b[0;34m+=\u001b[0m \u001b[0ml1\u001b[0m\u001b[0;34m\u001b[0m\u001b[0;34m\u001b[0m\u001b[0m\n\u001b[1;32m      6\u001b[0m   \u001b[0mnum_correct\u001b[0m \u001b[0;34m+=\u001b[0m \u001b[0macc\u001b[0m\u001b[0;34m\u001b[0m\u001b[0;34m\u001b[0m\u001b[0m\n",
            "\u001b[0;32m<ipython-input-113-c9782dda287c>\u001b[0m in \u001b[0;36mforward\u001b[0;34m(img, label)\u001b[0m\n\u001b[1;32m      1\u001b[0m \u001b[0;32mdef\u001b[0m \u001b[0mforward\u001b[0m\u001b[0;34m(\u001b[0m\u001b[0mimg\u001b[0m\u001b[0;34m,\u001b[0m\u001b[0mlabel\u001b[0m\u001b[0;34m)\u001b[0m\u001b[0;34m:\u001b[0m\u001b[0;34m\u001b[0m\u001b[0;34m\u001b[0m\u001b[0m\n\u001b[0;32m----> 2\u001b[0;31m   \u001b[0mout\u001b[0m\u001b[0;34m=\u001b[0m\u001b[0mcon\u001b[0m\u001b[0;34m.\u001b[0m\u001b[0mforward_prop\u001b[0m\u001b[0;34m(\u001b[0m\u001b[0mimg\u001b[0m\u001b[0;34m/\u001b[0m\u001b[0;36m255\u001b[0m\u001b[0;34m)\u001b[0m\u001b[0;34m\u001b[0m\u001b[0;34m\u001b[0m\u001b[0m\n\u001b[0m\u001b[1;32m      3\u001b[0m   \u001b[0mout\u001b[0m\u001b[0;34m=\u001b[0m\u001b[0mpool\u001b[0m\u001b[0;34m.\u001b[0m\u001b[0mforward_prop\u001b[0m\u001b[0;34m(\u001b[0m\u001b[0mout\u001b[0m\u001b[0;34m)\u001b[0m\u001b[0;34m\u001b[0m\u001b[0;34m\u001b[0m\u001b[0m\n\u001b[1;32m      4\u001b[0m   \u001b[0mout\u001b[0m\u001b[0;34m=\u001b[0m\u001b[0msoftmax\u001b[0m\u001b[0;34m.\u001b[0m\u001b[0mforward\u001b[0m\u001b[0;34m(\u001b[0m\u001b[0mout\u001b[0m\u001b[0;34m)\u001b[0m\u001b[0;34m\u001b[0m\u001b[0;34m\u001b[0m\u001b[0m\n\u001b[1;32m      5\u001b[0m \u001b[0;34m\u001b[0m\u001b[0m\n",
            "\u001b[0;32m<ipython-input-108-067762a57ffe>\u001b[0m in \u001b[0;36mforward_prop\u001b[0;34m(self, image)\u001b[0m\n\u001b[1;32m     30\u001b[0m     \u001b[0mconv_out\u001b[0m\u001b[0;34m=\u001b[0m\u001b[0mnp\u001b[0m\u001b[0;34m.\u001b[0m\u001b[0mzeros\u001b[0m\u001b[0;34m(\u001b[0m\u001b[0;34m(\u001b[0m\u001b[0mheight\u001b[0m\u001b[0;34m-\u001b[0m\u001b[0mself\u001b[0m\u001b[0;34m.\u001b[0m\u001b[0mfilter_size\u001b[0m\u001b[0;34m+\u001b[0m\u001b[0;36m1\u001b[0m\u001b[0;34m,\u001b[0m\u001b[0mwidth\u001b[0m\u001b[0;34m-\u001b[0m\u001b[0mself\u001b[0m\u001b[0;34m.\u001b[0m\u001b[0mfilter_size\u001b[0m\u001b[0;34m+\u001b[0m\u001b[0;36m1\u001b[0m\u001b[0;34m,\u001b[0m\u001b[0mself\u001b[0m\u001b[0;34m.\u001b[0m\u001b[0mnum_filters\u001b[0m\u001b[0;34m)\u001b[0m\u001b[0;34m)\u001b[0m\u001b[0;34m\u001b[0m\u001b[0;34m\u001b[0m\u001b[0m\n\u001b[1;32m     31\u001b[0m     \u001b[0;32mfor\u001b[0m \u001b[0mimage_patch\u001b[0m\u001b[0;34m,\u001b[0m\u001b[0mi\u001b[0m\u001b[0;34m,\u001b[0m\u001b[0mj\u001b[0m \u001b[0;32min\u001b[0m \u001b[0mself\u001b[0m\u001b[0;34m.\u001b[0m\u001b[0mimage_region\u001b[0m\u001b[0;34m(\u001b[0m\u001b[0mimage\u001b[0m\u001b[0;34m)\u001b[0m\u001b[0;34m:\u001b[0m\u001b[0;34m\u001b[0m\u001b[0;34m\u001b[0m\u001b[0m\n\u001b[0;32m---> 32\u001b[0;31m       \u001b[0mconv_out\u001b[0m\u001b[0;34m[\u001b[0m\u001b[0mi\u001b[0m\u001b[0;34m,\u001b[0m\u001b[0mj\u001b[0m\u001b[0;34m]\u001b[0m \u001b[0;34m=\u001b[0m \u001b[0mnp\u001b[0m\u001b[0;34m.\u001b[0m\u001b[0msum\u001b[0m\u001b[0;34m(\u001b[0m\u001b[0mimage_patch\u001b[0m\u001b[0;34m*\u001b[0m\u001b[0mself\u001b[0m\u001b[0;34m.\u001b[0m\u001b[0mconv_filter\u001b[0m\u001b[0;34m,\u001b[0m\u001b[0maxis\u001b[0m\u001b[0;34m=\u001b[0m\u001b[0;34m(\u001b[0m\u001b[0;36m1\u001b[0m\u001b[0;34m,\u001b[0m\u001b[0;36m2\u001b[0m\u001b[0;34m)\u001b[0m\u001b[0;34m)\u001b[0m\u001b[0;34m\u001b[0m\u001b[0;34m\u001b[0m\u001b[0m\n\u001b[0m\u001b[1;32m     33\u001b[0m     \u001b[0;32mreturn\u001b[0m \u001b[0mconv_out\u001b[0m\u001b[0;34m\u001b[0m\u001b[0;34m\u001b[0m\u001b[0m\n\u001b[1;32m     34\u001b[0m   \u001b[0;32mdef\u001b[0m \u001b[0mback_prop\u001b[0m\u001b[0;34m(\u001b[0m\u001b[0mself\u001b[0m\u001b[0;34m,\u001b[0m\u001b[0mdl_dout\u001b[0m\u001b[0;34m,\u001b[0m\u001b[0mlearning_rate\u001b[0m\u001b[0;34m)\u001b[0m\u001b[0;34m:\u001b[0m\u001b[0;31m#dl_dout -> max-pool değeriyle gelecek\u001b[0m\u001b[0;34m\u001b[0m\u001b[0;34m\u001b[0m\u001b[0m\n",
            "\u001b[0;32m<__array_function__ internals>\u001b[0m in \u001b[0;36msum\u001b[0;34m(*args, **kwargs)\u001b[0m\n",
            "\u001b[0;32m/usr/local/lib/python3.6/dist-packages/numpy/core/fromnumeric.py\u001b[0m in \u001b[0;36m_sum_dispatcher\u001b[0;34m(a, axis, dtype, out, keepdims, initial, where)\u001b[0m\n\u001b[1;32m   2087\u001b[0m def _sum_dispatcher(a, axis=None, dtype=None, out=None, keepdims=None,\n\u001b[1;32m   2088\u001b[0m                     initial=None, where=None):\n\u001b[0;32m-> 2089\u001b[0;31m     \u001b[0;32mreturn\u001b[0m \u001b[0;34m(\u001b[0m\u001b[0ma\u001b[0m\u001b[0;34m,\u001b[0m \u001b[0mout\u001b[0m\u001b[0;34m)\u001b[0m\u001b[0;34m\u001b[0m\u001b[0;34m\u001b[0m\u001b[0m\n\u001b[0m\u001b[1;32m   2090\u001b[0m \u001b[0;34m\u001b[0m\u001b[0m\n\u001b[1;32m   2091\u001b[0m \u001b[0;34m\u001b[0m\u001b[0m\n",
            "\u001b[0;31mKeyboardInterrupt\u001b[0m: "
          ]
        }
      ]
    }
  ]
}