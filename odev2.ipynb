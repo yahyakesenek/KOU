{
  "nbformat": 4,
  "nbformat_minor": 0,
  "metadata": {
    "colab": {
      "name": "odev2.ipynb",
      "provenance": [],
      "collapsed_sections": [],
      "authorship_tag": "ABX9TyPv57M7KE+WbMe+ctVxGTmC",
      "include_colab_link": true
    },
    "kernelspec": {
      "name": "python3",
      "display_name": "Python 3"
    }
  },
  "cells": [
    {
      "cell_type": "markdown",
      "metadata": {
        "id": "view-in-github",
        "colab_type": "text"
      },
      "source": [
        "<a href=\"https://colab.research.google.com/github/yahyakesenek/KOU/blob/master/odev2.ipynb\" target=\"_parent\"><img src=\"https://colab.research.google.com/assets/colab-badge.svg\" alt=\"Open In Colab\"/></a>"
      ]
    },
    {
      "cell_type": "code",
      "metadata": {
        "id": "jAsfrKIRxYVH",
        "colab_type": "code",
        "outputId": "63882048-6902-4493-86f2-238ac714e152",
        "colab": {
          "base_uri": "https://localhost:8080/",
          "height": 34
        }
      },
      "source": [
        "def factorial(n):\n",
        "    n += 1\n",
        "    mult = 1\n",
        "    if n == 0: return 1\n",
        "    for i in range(1, n):\n",
        "        mult *= i\n",
        "    return mult\n",
        "\n",
        "\n",
        "def permutate(n, r):\n",
        "    return factorial(n) / factorial(n - r)\n",
        "\n",
        "\n",
        "def combination(n, r):\n",
        "    return permutate(n, r) / factorial(r)\n",
        "\n",
        "def solve():\n",
        "  agdakiPCSayisi=7\n",
        "  olusturulacakAgPCSayisi=3\n",
        "  olmasiIstenenPCAdedi=3\n",
        "  olasiTumDurumlar=combination(agdakiPCSayisi,olusturulacakAgPCSayisi)\n",
        "  istenenPCDisindakiTumDurumlar=combination(agdakiPCSayisi-olmasiIstenenPCAdedi,olusturulacakAgPCSayisi)\n",
        "  istenenPCDisindakiOlasilikDegeri=istenenPCDisindakiTumDurumlar/float(olasiTumDurumlar)\n",
        "  istenenOlayiOlasiligi=1-istenenPCDisindakiOlasilikDegeri\n",
        "  return istenenOlayiOlasiligi\n",
        "print(\"Verilen Problemin Çözümü : %0.3f\" %solve())\n",
        "\n",
        "\n",
        "\n"
      ],
      "execution_count": 2,
      "outputs": [
        {
          "output_type": "stream",
          "text": [
            "Verilen Problemin Çözümü : 0.886\n"
          ],
          "name": "stdout"
        }
      ]
    },
    {
      "cell_type": "markdown",
      "metadata": {
        "id": "ndUpqabtRLud",
        "colab_type": "text"
      },
      "source": [
        "Problem :\n",
        "\n",
        "{A,B,C,D,E,F,G} bilgisayarlarından oluşan bir Labratuvarda 3 adet bilgisayar bağlanarak bir ağ toplolojisi kurulacaktır. Oluşturulan bu ağ topolojisinde C, F veya B bilgisayarlarının bulunma olasılığını bulunuz?\n",
        "\n",
        "Çözüm : C, F veya B bilgisayarları ayrı ayrı veya beraber ağda bulunabilir. Bu işlem için p(CUFUB) = p(C)+p(F)+p(B) -[p(C∩F) +p(B∩F)+p(B∩C)+p(C∩F∩B)] bulunmalıdır. Bu işlemi yapmak yerine De morgan kurallarına göre 1-p(CUFUB)' işlemi uygulanabilir. \n",
        "\n",
        "Buna göre C,F,B nin hiç bulunmadığı durumlar 1'de çıkarılarak bulunur.\n",
        "\n",
        "s(tüm olası durumlar) = c(7,3)\n",
        "s(C,F,B nin bulunmaması) = c(4,3)\n",
        "p(C,F,B nin ağda  bulunma olasılığı ) = c(4,3)/c(7,3) = 4/35\n",
        "\n",
        "p(CUFUB) = 1 -[p(CUFUB)]'=1-4/35=31/35 = 0.88571...\n",
        "\n"
      ]
    },
    {
      "cell_type": "markdown",
      "metadata": {
        "id": "ACGDmR1uyD-O",
        "colab_type": "text"
      },
      "source": [
        "\n"
      ]
    }
  ]
}